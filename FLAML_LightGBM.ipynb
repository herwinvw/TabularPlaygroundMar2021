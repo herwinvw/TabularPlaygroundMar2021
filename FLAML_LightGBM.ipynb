{
 "cells": [
  {
   "cell_type": "markdown",
   "metadata": {},
   "source": [
    "# Load data"
   ]
  },
  {
   "cell_type": "code",
   "execution_count": 1,
   "metadata": {},
   "outputs": [],
   "source": [
    "import pandas as pd"
   ]
  },
  {
   "cell_type": "code",
   "execution_count": 2,
   "metadata": {},
   "outputs": [
    {
     "data": {
      "text/html": [
       "<div>\n",
       "<style scoped>\n",
       "    .dataframe tbody tr th:only-of-type {\n",
       "        vertical-align: middle;\n",
       "    }\n",
       "\n",
       "    .dataframe tbody tr th {\n",
       "        vertical-align: top;\n",
       "    }\n",
       "\n",
       "    .dataframe thead th {\n",
       "        text-align: right;\n",
       "    }\n",
       "</style>\n",
       "<table border=\"1\" class=\"dataframe\">\n",
       "  <thead>\n",
       "    <tr style=\"text-align: right;\">\n",
       "      <th></th>\n",
       "      <th>id</th>\n",
       "      <th>cat0</th>\n",
       "      <th>cat1</th>\n",
       "      <th>cat2</th>\n",
       "      <th>cat3</th>\n",
       "      <th>cat4</th>\n",
       "      <th>cat5</th>\n",
       "      <th>cat6</th>\n",
       "      <th>cat7</th>\n",
       "      <th>cat8</th>\n",
       "      <th>...</th>\n",
       "      <th>cont2</th>\n",
       "      <th>cont3</th>\n",
       "      <th>cont4</th>\n",
       "      <th>cont5</th>\n",
       "      <th>cont6</th>\n",
       "      <th>cont7</th>\n",
       "      <th>cont8</th>\n",
       "      <th>cont9</th>\n",
       "      <th>cont10</th>\n",
       "      <th>target</th>\n",
       "    </tr>\n",
       "  </thead>\n",
       "  <tbody>\n",
       "    <tr>\n",
       "      <th>0</th>\n",
       "      <td>0</td>\n",
       "      <td>A</td>\n",
       "      <td>I</td>\n",
       "      <td>A</td>\n",
       "      <td>B</td>\n",
       "      <td>B</td>\n",
       "      <td>BI</td>\n",
       "      <td>A</td>\n",
       "      <td>S</td>\n",
       "      <td>Q</td>\n",
       "      <td>...</td>\n",
       "      <td>0.759439</td>\n",
       "      <td>0.795549</td>\n",
       "      <td>0.681917</td>\n",
       "      <td>0.621672</td>\n",
       "      <td>0.592184</td>\n",
       "      <td>0.791921</td>\n",
       "      <td>0.815254</td>\n",
       "      <td>0.965006</td>\n",
       "      <td>0.665915</td>\n",
       "      <td>0</td>\n",
       "    </tr>\n",
       "    <tr>\n",
       "      <th>1</th>\n",
       "      <td>1</td>\n",
       "      <td>A</td>\n",
       "      <td>I</td>\n",
       "      <td>A</td>\n",
       "      <td>A</td>\n",
       "      <td>E</td>\n",
       "      <td>BI</td>\n",
       "      <td>K</td>\n",
       "      <td>W</td>\n",
       "      <td>AD</td>\n",
       "      <td>...</td>\n",
       "      <td>0.386385</td>\n",
       "      <td>0.541366</td>\n",
       "      <td>0.388982</td>\n",
       "      <td>0.357778</td>\n",
       "      <td>0.600044</td>\n",
       "      <td>0.408701</td>\n",
       "      <td>0.399353</td>\n",
       "      <td>0.927406</td>\n",
       "      <td>0.493729</td>\n",
       "      <td>0</td>\n",
       "    </tr>\n",
       "    <tr>\n",
       "      <th>2</th>\n",
       "      <td>2</td>\n",
       "      <td>A</td>\n",
       "      <td>K</td>\n",
       "      <td>A</td>\n",
       "      <td>A</td>\n",
       "      <td>E</td>\n",
       "      <td>BI</td>\n",
       "      <td>A</td>\n",
       "      <td>E</td>\n",
       "      <td>BM</td>\n",
       "      <td>...</td>\n",
       "      <td>0.343255</td>\n",
       "      <td>0.616352</td>\n",
       "      <td>0.793687</td>\n",
       "      <td>0.552877</td>\n",
       "      <td>0.352113</td>\n",
       "      <td>0.388835</td>\n",
       "      <td>0.412303</td>\n",
       "      <td>0.292696</td>\n",
       "      <td>0.549452</td>\n",
       "      <td>0</td>\n",
       "    </tr>\n",
       "    <tr>\n",
       "      <th>3</th>\n",
       "      <td>3</td>\n",
       "      <td>A</td>\n",
       "      <td>K</td>\n",
       "      <td>A</td>\n",
       "      <td>C</td>\n",
       "      <td>E</td>\n",
       "      <td>BI</td>\n",
       "      <td>A</td>\n",
       "      <td>Y</td>\n",
       "      <td>AD</td>\n",
       "      <td>...</td>\n",
       "      <td>0.831147</td>\n",
       "      <td>0.807807</td>\n",
       "      <td>0.800032</td>\n",
       "      <td>0.619147</td>\n",
       "      <td>0.221789</td>\n",
       "      <td>0.897617</td>\n",
       "      <td>0.633669</td>\n",
       "      <td>0.760318</td>\n",
       "      <td>0.934242</td>\n",
       "      <td>0</td>\n",
       "    </tr>\n",
       "    <tr>\n",
       "      <th>4</th>\n",
       "      <td>4</td>\n",
       "      <td>A</td>\n",
       "      <td>I</td>\n",
       "      <td>G</td>\n",
       "      <td>B</td>\n",
       "      <td>E</td>\n",
       "      <td>BI</td>\n",
       "      <td>C</td>\n",
       "      <td>G</td>\n",
       "      <td>Q</td>\n",
       "      <td>...</td>\n",
       "      <td>0.338818</td>\n",
       "      <td>0.277308</td>\n",
       "      <td>0.610578</td>\n",
       "      <td>0.128291</td>\n",
       "      <td>0.578764</td>\n",
       "      <td>0.279167</td>\n",
       "      <td>0.351103</td>\n",
       "      <td>0.357084</td>\n",
       "      <td>0.328960</td>\n",
       "      <td>1</td>\n",
       "    </tr>\n",
       "  </tbody>\n",
       "</table>\n",
       "<p>5 rows × 32 columns</p>\n",
       "</div>"
      ],
      "text/plain": [
       "   id cat0 cat1 cat2 cat3 cat4 cat5 cat6 cat7 cat8  ...     cont2     cont3  \\\n",
       "0   0    A    I    A    B    B   BI    A    S    Q  ...  0.759439  0.795549   \n",
       "1   1    A    I    A    A    E   BI    K    W   AD  ...  0.386385  0.541366   \n",
       "2   2    A    K    A    A    E   BI    A    E   BM  ...  0.343255  0.616352   \n",
       "3   3    A    K    A    C    E   BI    A    Y   AD  ...  0.831147  0.807807   \n",
       "4   4    A    I    G    B    E   BI    C    G    Q  ...  0.338818  0.277308   \n",
       "\n",
       "      cont4     cont5     cont6     cont7     cont8     cont9    cont10 target  \n",
       "0  0.681917  0.621672  0.592184  0.791921  0.815254  0.965006  0.665915      0  \n",
       "1  0.388982  0.357778  0.600044  0.408701  0.399353  0.927406  0.493729      0  \n",
       "2  0.793687  0.552877  0.352113  0.388835  0.412303  0.292696  0.549452      0  \n",
       "3  0.800032  0.619147  0.221789  0.897617  0.633669  0.760318  0.934242      0  \n",
       "4  0.610578  0.128291  0.578764  0.279167  0.351103  0.357084  0.328960      1  \n",
       "\n",
       "[5 rows x 32 columns]"
      ]
     },
     "execution_count": 2,
     "metadata": {},
     "output_type": "execute_result"
    }
   ],
   "source": [
    "train = pd.read_csv('train.csv')\n",
    "test = pd.read_csv('test.csv')\n",
    "train.head()"
   ]
  },
  {
   "cell_type": "code",
   "execution_count": 3,
   "metadata": {},
   "outputs": [
    {
     "data": {
      "text/plain": [
       "['cat0',\n",
       " 'cat1',\n",
       " 'cat2',\n",
       " 'cat3',\n",
       " 'cat4',\n",
       " 'cat5',\n",
       " 'cat6',\n",
       " 'cat7',\n",
       " 'cat8',\n",
       " 'cat9',\n",
       " 'cat10',\n",
       " 'cat11',\n",
       " 'cat12',\n",
       " 'cat13',\n",
       " 'cat14',\n",
       " 'cat15',\n",
       " 'cat16',\n",
       " 'cat17',\n",
       " 'cat18']"
      ]
     },
     "execution_count": 3,
     "metadata": {},
     "output_type": "execute_result"
    }
   ],
   "source": [
    "cat_cols = [x for x in train.columns if x.startswith('cat')]\n",
    "cat_cols"
   ]
  },
  {
   "cell_type": "code",
   "execution_count": 4,
   "metadata": {},
   "outputs": [],
   "source": [
    "x_train = train.drop(columns=['id','target'])\n",
    "y_train = train['target']"
   ]
  },
  {
   "cell_type": "code",
   "execution_count": 5,
   "metadata": {},
   "outputs": [],
   "source": [
    "from categorical_transform import CategoricalTransform\n",
    "ct = CategoricalTransform(cat_cols)\n",
    "x_train = ct.fit_transform(x_train)\n",
    "x_test = ct.transform(test)"
   ]
  },
  {
   "cell_type": "markdown",
   "metadata": {},
   "source": [
    "# Train model"
   ]
  },
  {
   "cell_type": "code",
   "execution_count": 6,
   "metadata": {},
   "outputs": [],
   "source": [
    "from flaml import AutoML\n",
    "automl = AutoML()"
   ]
  },
  {
   "cell_type": "code",
   "execution_count": 8,
   "metadata": {},
   "outputs": [
    {
     "name": "stderr",
     "output_type": "stream",
     "text": [
      "[flaml.automl: 03-08 13:48:49] {853} INFO - Evaluation method: cv\n",
      "[flaml.automl: 03-08 13:48:49] {573} INFO - Using StratifiedKFold\n",
      "[flaml.automl: 03-08 13:48:49] {874} INFO - Minimizing error metric: 1-roc_auc\n",
      "[flaml.automl: 03-08 13:48:49] {893} INFO - List of ML learners in AutoML Run: ['lgbm']\n",
      "[flaml.automl: 03-08 13:48:49] {953} INFO - iteration 0  current learner lgbm\n",
      "[flaml.automl: 03-08 13:48:57] {1101} INFO -  at 9.0s,\tbest lgbm's error=0.1715,\tbest lgbm's error=0.1715\n",
      "[flaml.automl: 03-08 13:48:57] {953} INFO - iteration 1  current learner lgbm\n",
      "[flaml.automl: 03-08 13:49:03] {1101} INFO -  at 14.6s,\tbest lgbm's error=0.1715,\tbest lgbm's error=0.1715\n",
      "[flaml.automl: 03-08 13:49:03] {953} INFO - iteration 2  current learner lgbm\n",
      "[flaml.automl: 03-08 13:49:11] {1101} INFO -  at 23.0s,\tbest lgbm's error=0.1431,\tbest lgbm's error=0.1431\n",
      "[flaml.automl: 03-08 13:49:11] {953} INFO - iteration 3  current learner lgbm\n",
      "[flaml.automl: 03-08 13:49:17] {1101} INFO -  at 28.9s,\tbest lgbm's error=0.1431,\tbest lgbm's error=0.1431\n",
      "[flaml.automl: 03-08 13:49:17] {953} INFO - iteration 4  current learner lgbm\n",
      "[flaml.automl: 03-08 13:49:30] {1101} INFO -  at 41.5s,\tbest lgbm's error=0.1197,\tbest lgbm's error=0.1197\n",
      "[flaml.automl: 03-08 13:49:30] {953} INFO - iteration 5  current learner lgbm\n",
      "[flaml.automl: 03-08 13:49:42] {1101} INFO -  at 54.2s,\tbest lgbm's error=0.1164,\tbest lgbm's error=0.1164\n",
      "[flaml.automl: 03-08 13:49:42] {953} INFO - iteration 6  current learner lgbm\n",
      "[flaml.automl: 03-08 13:49:49] {1101} INFO -  at 61.4s,\tbest lgbm's error=0.1164,\tbest lgbm's error=0.1164\n",
      "[flaml.automl: 03-08 13:49:49] {953} INFO - iteration 7  current learner lgbm\n",
      "[flaml.automl: 03-08 13:49:59] {1101} INFO -  at 70.5s,\tbest lgbm's error=0.1164,\tbest lgbm's error=0.1164\n",
      "[flaml.automl: 03-08 13:49:59] {953} INFO - iteration 8  current learner lgbm\n",
      "[flaml.automl: 03-08 13:50:07] {1101} INFO -  at 79.4s,\tbest lgbm's error=0.1164,\tbest lgbm's error=0.1164\n",
      "[flaml.automl: 03-08 13:50:07] {953} INFO - iteration 9  current learner lgbm\n",
      "[flaml.automl: 03-08 13:50:16] {1101} INFO -  at 87.8s,\tbest lgbm's error=0.1164,\tbest lgbm's error=0.1164\n",
      "[flaml.automl: 03-08 13:50:16] {953} INFO - iteration 10  current learner lgbm\n",
      "[flaml.automl: 03-08 13:50:24] {1101} INFO -  at 95.9s,\tbest lgbm's error=0.1164,\tbest lgbm's error=0.1164\n",
      "[flaml.automl: 03-08 13:50:24] {953} INFO - iteration 11  current learner lgbm\n",
      "[flaml.automl: 03-08 13:50:36] {1101} INFO -  at 107.8s,\tbest lgbm's error=0.1164,\tbest lgbm's error=0.1164\n",
      "[flaml.automl: 03-08 13:50:36] {953} INFO - iteration 12  current learner lgbm\n",
      "[flaml.automl: 03-08 13:50:43] {1101} INFO -  at 115.5s,\tbest lgbm's error=0.1164,\tbest lgbm's error=0.1164\n",
      "[flaml.automl: 03-08 13:50:43] {953} INFO - iteration 13  current learner lgbm\n",
      "[flaml.automl: 03-08 13:50:51] {1101} INFO -  at 122.7s,\tbest lgbm's error=0.1164,\tbest lgbm's error=0.1164\n",
      "[flaml.automl: 03-08 13:50:51] {953} INFO - iteration 14  current learner lgbm\n",
      "[flaml.automl: 03-08 13:51:08] {1101} INFO -  at 140.4s,\tbest lgbm's error=0.1104,\tbest lgbm's error=0.1104\n",
      "[flaml.automl: 03-08 13:51:08] {953} INFO - iteration 15  current learner lgbm\n",
      "[flaml.automl: 03-08 13:51:18] {1101} INFO -  at 149.9s,\tbest lgbm's error=0.1104,\tbest lgbm's error=0.1104\n",
      "[flaml.automl: 03-08 13:51:18] {953} INFO - iteration 16  current learner lgbm\n",
      "[flaml.automl: 03-08 13:52:17] {1101} INFO -  at 209.3s,\tbest lgbm's error=0.1102,\tbest lgbm's error=0.1102\n",
      "[flaml.automl: 03-08 13:52:17] {953} INFO - iteration 17  current learner lgbm\n",
      "[flaml.automl: 03-08 13:53:31] {1101} INFO -  at 282.9s,\tbest lgbm's error=0.1080,\tbest lgbm's error=0.1080\n",
      "[flaml.automl: 03-08 13:53:31] {953} INFO - iteration 18  current learner lgbm\n",
      "[flaml.automl: 03-08 13:55:55] {1101} INFO -  at 427.0s,\tbest lgbm's error=0.1080,\tbest lgbm's error=0.1080\n",
      "[flaml.automl: 03-08 13:55:55] {953} INFO - iteration 19  current learner lgbm\n",
      "[flaml.automl: 03-08 13:56:11] {1101} INFO -  at 443.2s,\tbest lgbm's error=0.1080,\tbest lgbm's error=0.1080\n",
      "[flaml.automl: 03-08 13:56:11] {953} INFO - iteration 20  current learner lgbm\n",
      "[flaml.automl: 03-08 13:57:32] {1101} INFO -  at 523.8s,\tbest lgbm's error=0.1080,\tbest lgbm's error=0.1080\n",
      "[flaml.automl: 03-08 13:57:32] {953} INFO - iteration 21  current learner lgbm\n",
      "[flaml.automl: 03-08 13:57:51] {1101} INFO -  at 542.9s,\tbest lgbm's error=0.1080,\tbest lgbm's error=0.1080\n",
      "[flaml.automl: 03-08 13:57:51] {953} INFO - iteration 22  current learner lgbm\n",
      "[flaml.automl: 03-08 14:02:54] {1101} INFO -  at 846.4s,\tbest lgbm's error=0.1065,\tbest lgbm's error=0.1065\n",
      "[flaml.automl: 03-08 14:02:54] {953} INFO - iteration 23  current learner lgbm\n",
      "[flaml.automl: 03-08 14:07:26] {1101} INFO -  at 1118.1s,\tbest lgbm's error=0.1065,\tbest lgbm's error=0.1065\n",
      "[flaml.automl: 03-08 14:07:26] {953} INFO - iteration 24  current learner lgbm\n",
      "[flaml.automl: 03-08 14:09:11] {1101} INFO -  at 1222.7s,\tbest lgbm's error=0.1065,\tbest lgbm's error=0.1065\n",
      "[flaml.automl: 03-08 14:09:11] {953} INFO - iteration 25  current learner lgbm\n",
      "[flaml.automl: 03-08 14:17:24] {1101} INFO -  at 1715.7s,\tbest lgbm's error=0.1065,\tbest lgbm's error=0.1065\n",
      "[flaml.automl: 03-08 14:17:24] {953} INFO - iteration 26  current learner lgbm\n",
      "[flaml.automl: 03-08 14:24:38] {1101} INFO -  at 2149.9s,\tbest lgbm's error=0.1065,\tbest lgbm's error=0.1065\n",
      "[flaml.automl: 03-08 14:24:38] {953} INFO - iteration 27  current learner lgbm\n",
      "[flaml.automl: 03-08 14:27:33] {1101} INFO -  at 2325.3s,\tbest lgbm's error=0.1065,\tbest lgbm's error=0.1065\n",
      "[flaml.automl: 03-08 14:27:33] {953} INFO - iteration 28  current learner lgbm\n",
      "[flaml.automl: 03-08 14:30:57] {1101} INFO -  at 2528.9s,\tbest lgbm's error=0.1065,\tbest lgbm's error=0.1065\n",
      "[flaml.automl: 03-08 14:30:57] {953} INFO - iteration 29  current learner lgbm\n",
      "[flaml.automl: 03-08 14:43:09] {1101} INFO -  at 3260.5s,\tbest lgbm's error=0.1063,\tbest lgbm's error=0.1063\n",
      "[flaml.automl: 03-08 14:43:09] {953} INFO - iteration 30  current learner lgbm\n",
      "[flaml.automl: 03-08 14:45:08] {1101} INFO -  at 3379.7s,\tbest lgbm's error=0.1063,\tbest lgbm's error=0.1063\n",
      "[flaml.automl: 03-08 14:45:08] {953} INFO - iteration 31  current learner lgbm\n",
      "[flaml.automl: 03-08 15:37:51] {1101} INFO -  at 6543.4s,\tbest lgbm's error=0.1063,\tbest lgbm's error=0.1063\n",
      "[flaml.automl: 03-08 15:37:51] {953} INFO - iteration 32  current learner lgbm\n",
      "[flaml.automl: 03-08 15:47:52] {1101} INFO -  at 7144.3s,\tbest lgbm's error=0.1063,\tbest lgbm's error=0.1063\n",
      "[flaml.automl: 03-08 15:47:52] {953} INFO - iteration 33  current learner lgbm\n",
      "[flaml.automl: 03-08 15:49:21] {1101} INFO -  at 7232.8s,\tbest lgbm's error=0.1063,\tbest lgbm's error=0.1063\n",
      "[flaml.automl: 03-08 15:49:21] {953} INFO - iteration 34  current learner lgbm\n",
      "[flaml.automl: 03-08 17:36:13] {1101} INFO -  at 13645.2s,\tbest lgbm's error=0.1063,\tbest lgbm's error=0.1063\n",
      "[flaml.automl: 03-08 17:36:13] {953} INFO - iteration 35  current learner lgbm\n",
      "[flaml.automl: 03-08 17:47:35] {1101} INFO -  at 14327.1s,\tbest lgbm's error=0.1063,\tbest lgbm's error=0.1063\n",
      "[flaml.automl: 03-08 17:47:35] {953} INFO - iteration 36  current learner lgbm\n",
      "[flaml.automl: 03-08 17:55:47] {1101} INFO -  at 14818.5s,\tbest lgbm's error=0.1059,\tbest lgbm's error=0.1059\n",
      "[flaml.automl: 03-08 17:55:47] {953} INFO - iteration 37  current learner lgbm\n",
      "[flaml.automl: 03-08 18:01:07] {1101} INFO -  at 15138.8s,\tbest lgbm's error=0.1059,\tbest lgbm's error=0.1059\n",
      "[flaml.automl: 03-08 18:01:07] {953} INFO - iteration 38  current learner lgbm\n",
      "[flaml.automl: 03-08 18:05:46] {1101} INFO -  at 15418.4s,\tbest lgbm's error=0.1059,\tbest lgbm's error=0.1059\n",
      "[flaml.automl: 03-08 18:05:46] {953} INFO - iteration 39  current learner lgbm\n",
      "[flaml.automl: 03-08 18:11:54] {1101} INFO -  at 15785.9s,\tbest lgbm's error=0.1059,\tbest lgbm's error=0.1059\n",
      "[flaml.automl: 03-08 18:11:54] {953} INFO - iteration 40  current learner lgbm\n",
      "[flaml.automl: 03-08 18:20:28] {1101} INFO -  at 16300.2s,\tbest lgbm's error=0.1056,\tbest lgbm's error=0.1056\n",
      "[flaml.automl: 03-08 18:20:28] {953} INFO - iteration 41  current learner lgbm\n",
      "[flaml.automl: 03-08 18:22:54] {1101} INFO -  at 16445.6s,\tbest lgbm's error=0.1056,\tbest lgbm's error=0.1056\n",
      "[flaml.automl: 03-08 18:22:54] {953} INFO - iteration 42  current learner lgbm\n"
     ]
    },
    {
     "name": "stderr",
     "output_type": "stream",
     "text": [
      "[flaml.automl: 03-08 18:37:57] {1101} INFO -  at 17348.6s,\tbest lgbm's error=0.1056,\tbest lgbm's error=0.1056\n",
      "[flaml.automl: 03-08 18:37:57] {953} INFO - iteration 43  current learner lgbm\n",
      "[flaml.automl: 03-08 18:40:40] {1101} INFO -  at 17512.2s,\tbest lgbm's error=0.1056,\tbest lgbm's error=0.1056\n",
      "[flaml.automl: 03-08 18:40:40] {953} INFO - iteration 44  current learner lgbm\n",
      "[flaml.automl: 03-08 18:47:38] {1101} INFO -  at 17930.0s,\tbest lgbm's error=0.1056,\tbest lgbm's error=0.1056\n",
      "[flaml.automl: 03-08 18:47:38] {1148} INFO - selected model: LGBMClassifier(colsample_bytree=0.7837120584348249, learning_rate=0.01,\n",
      "               max_bin=1023, min_child_weight=20.0, n_estimators=856, n_jobs=-2,\n",
      "               num_leaves=198, objective='binary', reg_alpha=1e-10,\n",
      "               reg_lambda=1.0, subsample=0.9676701147355194)\n",
      "[flaml.automl: 03-08 18:47:38] {908} INFO - fit succeeded\n"
     ]
    }
   ],
   "source": [
    "automl.fit(x_train, y_train, task=\"classification\", estimator_list=[\"lgbm\"], \n",
    "           time_budget=60*60*5, metric='roc_auc', eval_method='cv', n_splits = 5, n_jobs=-2,\n",
    "          log_file_name='flaml_lightgbm.log')"
   ]
  },
  {
   "cell_type": "code",
   "execution_count": 9,
   "metadata": {},
   "outputs": [
    {
     "data": {
      "text/plain": [
       "0.8943780277112133"
      ]
     },
     "execution_count": 9,
     "metadata": {},
     "output_type": "execute_result"
    }
   ],
   "source": [
    "1-automl.best_loss"
   ]
  },
  {
   "cell_type": "code",
   "execution_count": 10,
   "metadata": {},
   "outputs": [],
   "source": [
    "pred = automl.model.predict_proba(x_test.drop(columns='id'))[:,1]"
   ]
  },
  {
   "cell_type": "code",
   "execution_count": 11,
   "metadata": {},
   "outputs": [],
   "source": [
    "submission = pd.DataFrame({'id':test['id'], 'target':pred})"
   ]
  },
  {
   "cell_type": "code",
   "execution_count": 12,
   "metadata": {},
   "outputs": [],
   "source": [
    "submission.to_csv('submission_lightgbm_flaml.csv', index=False)"
   ]
  },
  {
   "cell_type": "markdown",
   "metadata": {},
   "source": [
    "## Log"
   ]
  },
  {
   "cell_type": "code",
   "execution_count": 24,
   "metadata": {},
   "outputs": [],
   "source": [
    "from flaml.data import get_output_from_log\n",
    "time_history, best_valid_loss_history, valid_loss_history, config_history, train_loss_history = \\\n",
    "    get_output_from_log(filename = 'flaml_lightgbm.log', time_budget = 5*60*60)\n",
    "\n",
    "df_plot = pd.DataFrame({'time':time_history, 'loss':best_valid_loss_history})\n",
    "df_plot['auc'] = 1-df_plot['loss']\n",
    "df_plot['time'] = pd.to_timedelta(df_plot['time'],unit='s')"
   ]
  },
  {
   "cell_type": "code",
   "execution_count": 25,
   "metadata": {},
   "outputs": [
    {
     "data": {
      "image/png": "[encoded data removed]",
      "text/plain": [
       "<Figure size 640x480 with 1 Axes>"
      ]
     },
     "metadata": {},
     "output_type": "display_data"
    },
    {
     "data": {
      "text/plain": [
       "<ggplot: (8775937604136)>"
      ]
     },
     "execution_count": 25,
     "metadata": {},
     "output_type": "execute_result"
    }
   ],
   "source": [
    "from plotnine import ggplot, geom_point, aes, geom_line\n",
    "ggplot(df_plot, aes(x='time', y='auc'))+geom_point()+geom_line()"
   ]
  }
 ],
 "metadata": {
  "kernelspec": {
   "display_name": "Python 3",
   "language": "python",
   "name": "python3"
  },
  "language_info": {
   "codemirror_mode": {
    "name": "ipython",
    "version": 3
   },
   "file_extension": ".py",
   "mimetype": "text/x-python",
   "name": "python",
   "nbconvert_exporter": "python",
   "pygments_lexer": "ipython3",
   "version": "3.8.5"
  }
 },
 "nbformat": 4,
 "nbformat_minor": 4
}
