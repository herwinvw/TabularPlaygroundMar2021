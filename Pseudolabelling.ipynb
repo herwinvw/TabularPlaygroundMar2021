{
 "cells": [
  {
   "cell_type": "markdown",
   "metadata": {},
   "source": [
    "# Pseudolabelling"
   ]
  },
  {
   "cell_type": "markdown",
   "metadata": {},
   "source": [
    "## Load data"
   ]
  },
  {
   "cell_type": "code",
   "execution_count": 1,
   "metadata": {},
   "outputs": [],
   "source": [
    "import pandas as pd"
   ]
  },
  {
   "cell_type": "code",
   "execution_count": 2,
   "metadata": {},
   "outputs": [],
   "source": [
    "train = pd.read_csv('train.csv')\n",
    "test = pd.read_csv('test.csv')"
   ]
  },
  {
   "cell_type": "code",
   "execution_count": 3,
   "metadata": {},
   "outputs": [
    {
     "data": {
      "text/plain": [
       "['cat0',\n",
       " 'cat1',\n",
       " 'cat2',\n",
       " 'cat3',\n",
       " 'cat4',\n",
       " 'cat5',\n",
       " 'cat6',\n",
       " 'cat7',\n",
       " 'cat8',\n",
       " 'cat9',\n",
       " 'cat10',\n",
       " 'cat11',\n",
       " 'cat12',\n",
       " 'cat13',\n",
       " 'cat14',\n",
       " 'cat15',\n",
       " 'cat16',\n",
       " 'cat17',\n",
       " 'cat18']"
      ]
     },
     "execution_count": 3,
     "metadata": {},
     "output_type": "execute_result"
    }
   ],
   "source": [
    "cat_cols = [x for x in train.columns if x.startswith('cat')]\n",
    "cat_cols"
   ]
  },
  {
   "cell_type": "markdown",
   "metadata": {},
   "source": [
    "## Pseudolabeling single loop"
   ]
  },
  {
   "cell_type": "code",
   "execution_count": 14,
   "metadata": {},
   "outputs": [],
   "source": [
    "from categorical_transform import IntegerCategoricalTransform, CategoricalTransform\n",
    "from catboost import CatBoostClassifier\n",
    "from lightgbm.sklearn import LGBMClassifier\n",
    "from sklearn.pipeline import Pipeline\n",
    "from sklearn.metrics import roc_auc_score\n",
    "from sklearn.model_selection import KFold"
   ]
  },
  {
   "cell_type": "code",
   "execution_count": 15,
   "metadata": {},
   "outputs": [],
   "source": [
    "cbc = CatBoostClassifier(cat_features=cat_cols, thread_count=6, verbose=False)\n",
    "catboost_pipe = Pipeline([(\"trans\", IntegerCategoricalTransform(cat_cols)),\n",
    "                          (\"catboost\", cbc)])"
   ]
  },
  {
   "cell_type": "code",
   "execution_count": 19,
   "metadata": {},
   "outputs": [],
   "source": [
    "lightgbm_pipe = Pipeline([(\"trans\", CategoricalTransform(cat_cols)),\n",
    "                          (\"lgbm\", LGBMClassifier(n_jobs = -2))])\n",
    "pipe = lightgbm_pipe"
   ]
  },
  {
   "cell_type": "code",
   "execution_count": 26,
   "metadata": {},
   "outputs": [
    {
     "name": "stdout",
     "output_type": "stream",
     "text": [
      "augment size: 200879, 77.26115384615385%\n",
      "augment size: 201520, 77.50769230769231%\n",
      "augment size: 201052, 77.3276923076923%\n",
      "augment size: 201251, 77.40423076923076%\n",
      "augment size: 201319, 77.43038461538461%\n"
     ]
    }
   ],
   "source": [
    "import numpy as np\n",
    "kf = KFold(n_splits=5, shuffle=True)\n",
    "roc_test_augmentation = []\n",
    "roc_test_original = []\n",
    "for train_index, test_index in kf.split(train):\n",
    "    train_folds = train.loc[train_index]\n",
    "    test_fold = train.loc[test_index]\n",
    "    x_train = train_folds.drop(columns=['id','target'])\n",
    "    y_train = train_folds['target'] \n",
    "    pipe.fit(x_train, y_train)\n",
    "    \n",
    "    x_test = test_fold.drop(columns=['id','target'])\n",
    "    y_test = test_fold['target'] \n",
    "    proba_orig = pipe.predict_proba(x_test)[:,1]\n",
    "    roc_test_original.append(roc_auc_score(y_test, proba_orig))\n",
    "    \n",
    "    unlabelled_train = pd.concat([x_test, test.drop(columns=['id'])], ignore_index=True)\n",
    "    y_augmented = pipe.predict(unlabelled_train)\n",
    "    y_augmented_proba = pipe.predict_proba(unlabelled_train)[:,1]\n",
    "    idx = (y_augmented_proba>0.75) | (y_augmented_proba<0.25)\n",
    "    print(f\"augment size: {np.sum(idx)}, {100*np.sum(idx)/len(idx)}%\")\n",
    "    y = pd.concat([pd.Series(y_augmented[idx]), y_train], ignore_index=True)\n",
    "    x = pd.concat([unlabelled_train[idx], x_train], ignore_index=True)\n",
    "    pipe.fit(x, y)\n",
    "                                  \n",
    "    proba = pipe.predict_proba(x_test)[:,1]\n",
    "    roc_test_augmentation.append(roc_auc_score(y_test, proba))"
   ]
  },
  {
   "cell_type": "code",
   "execution_count": 27,
   "metadata": {},
   "outputs": [
    {
     "data": {
      "text/plain": [
       "0.8907374152993913"
      ]
     },
     "execution_count": 27,
     "metadata": {},
     "output_type": "execute_result"
    }
   ],
   "source": [
    "np.mean(roc_test_augmentation)"
   ]
  },
  {
   "cell_type": "code",
   "execution_count": 28,
   "metadata": {},
   "outputs": [
    {
     "data": {
      "text/plain": [
       "0.8914026098742303"
      ]
     },
     "execution_count": 28,
     "metadata": {},
     "output_type": "execute_result"
    }
   ],
   "source": [
    "np.mean(roc_test_original)"
   ]
  },
  {
   "cell_type": "code",
   "execution_count": 30,
   "metadata": {},
   "outputs": [
    {
     "data": {
      "text/html": [
       "<div>\n",
       "<style scoped>\n",
       "    .dataframe tbody tr th:only-of-type {\n",
       "        vertical-align: middle;\n",
       "    }\n",
       "\n",
       "    .dataframe tbody tr th {\n",
       "        vertical-align: top;\n",
       "    }\n",
       "\n",
       "    .dataframe thead th {\n",
       "        text-align: right;\n",
       "    }\n",
       "</style>\n",
       "<table border=\"1\" class=\"dataframe\">\n",
       "  <thead>\n",
       "    <tr style=\"text-align: right;\">\n",
       "      <th></th>\n",
       "      <th>orig</th>\n",
       "      <th>augmented</th>\n",
       "      <th>improvement</th>\n",
       "    </tr>\n",
       "  </thead>\n",
       "  <tbody>\n",
       "    <tr>\n",
       "      <th>0</th>\n",
       "      <td>0.890264</td>\n",
       "      <td>0.890025</td>\n",
       "      <td>False</td>\n",
       "    </tr>\n",
       "    <tr>\n",
       "      <th>1</th>\n",
       "      <td>0.892024</td>\n",
       "      <td>0.890966</td>\n",
       "      <td>False</td>\n",
       "    </tr>\n",
       "    <tr>\n",
       "      <th>2</th>\n",
       "      <td>0.891674</td>\n",
       "      <td>0.891054</td>\n",
       "      <td>False</td>\n",
       "    </tr>\n",
       "    <tr>\n",
       "      <th>3</th>\n",
       "      <td>0.892453</td>\n",
       "      <td>0.891804</td>\n",
       "      <td>False</td>\n",
       "    </tr>\n",
       "    <tr>\n",
       "      <th>4</th>\n",
       "      <td>0.890598</td>\n",
       "      <td>0.889838</td>\n",
       "      <td>False</td>\n",
       "    </tr>\n",
       "  </tbody>\n",
       "</table>\n",
       "</div>"
      ],
      "text/plain": [
       "       orig  augmented  improvement\n",
       "0  0.890264   0.890025        False\n",
       "1  0.892024   0.890966        False\n",
       "2  0.891674   0.891054        False\n",
       "3  0.892453   0.891804        False\n",
       "4  0.890598   0.889838        False"
      ]
     },
     "execution_count": 30,
     "metadata": {},
     "output_type": "execute_result"
    }
   ],
   "source": [
    "results = pd.DataFrame({'orig':roc_test_original,'augmented':roc_test_augmentation})\n",
    "results['improvement'] = results['augmented']>results['orig']\n",
    "results"
   ]
  },
  {
   "cell_type": "code",
   "execution_count": null,
   "metadata": {},
   "outputs": [],
   "source": []
  }
 ],
 "metadata": {
  "kernelspec": {
   "display_name": "Python 3",
   "language": "python",
   "name": "python3"
  },
  "language_info": {
   "codemirror_mode": {
    "name": "ipython",
    "version": 3
   },
   "file_extension": ".py",
   "mimetype": "text/x-python",
   "name": "python",
   "nbconvert_exporter": "python",
   "pygments_lexer": "ipython3",
   "version": "3.8.5"
  }
 },
 "nbformat": 4,
 "nbformat_minor": 4
}
