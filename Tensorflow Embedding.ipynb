{
 "cells": [
  {
   "cell_type": "markdown",
   "metadata": {},
   "source": [
    "# Embedding"
   ]
  },
  {
   "cell_type": "markdown",
   "metadata": {},
   "source": [
    "## Loading data"
   ]
  },
  {
   "cell_type": "code",
   "execution_count": 1,
   "metadata": {},
   "outputs": [],
   "source": [
    "import pandas as pd"
   ]
  },
  {
   "cell_type": "code",
   "execution_count": 2,
   "metadata": {},
   "outputs": [],
   "source": [
    "train = pd.read_csv('train.csv')\n",
    "test = pd.read_csv('test.csv')"
   ]
  },
  {
   "cell_type": "code",
   "execution_count": 3,
   "metadata": {},
   "outputs": [
    {
     "data": {
      "text/plain": [
       "[2, 15, 19, 13, 20, 84, 16, 51, 61, 19, 299, 2, 2, 2, 2, 4, 4, 4, 4]"
      ]
     },
     "execution_count": 3,
     "metadata": {},
     "output_type": "execute_result"
    }
   ],
   "source": [
    "cat_size = [len(train[x].unique()) for x in train.columns if x.startswith('cat')]\n",
    "cat_size"
   ]
  },
  {
   "cell_type": "code",
   "execution_count": 4,
   "metadata": {},
   "outputs": [
    {
     "data": {
      "text/plain": [
       "['cat0',\n",
       " 'cat1',\n",
       " 'cat2',\n",
       " 'cat3',\n",
       " 'cat4',\n",
       " 'cat5',\n",
       " 'cat6',\n",
       " 'cat7',\n",
       " 'cat8',\n",
       " 'cat9',\n",
       " 'cat10',\n",
       " 'cat11',\n",
       " 'cat12',\n",
       " 'cat13',\n",
       " 'cat14',\n",
       " 'cat15',\n",
       " 'cat16',\n",
       " 'cat17',\n",
       " 'cat18']"
      ]
     },
     "execution_count": 4,
     "metadata": {},
     "output_type": "execute_result"
    }
   ],
   "source": [
    "cat_cols = [x for x in train.columns if x.startswith('cat')]\n",
    "cat_cols"
   ]
  },
  {
   "cell_type": "code",
   "execution_count": 5,
   "metadata": {},
   "outputs": [
    {
     "data": {
      "text/plain": [
       "['cont0',\n",
       " 'cont1',\n",
       " 'cont2',\n",
       " 'cont3',\n",
       " 'cont4',\n",
       " 'cont5',\n",
       " 'cont6',\n",
       " 'cont7',\n",
       " 'cont8',\n",
       " 'cont9',\n",
       " 'cont10']"
      ]
     },
     "execution_count": 5,
     "metadata": {},
     "output_type": "execute_result"
    }
   ],
   "source": [
    "cont_cols = [x for x in train.columns if x.startswith('cont')]\n",
    "cont_cols"
   ]
  },
  {
   "cell_type": "markdown",
   "metadata": {},
   "source": [
    "## Define the model"
   ]
  },
  {
   "cell_type": "code",
   "execution_count": 6,
   "metadata": {},
   "outputs": [],
   "source": [
    "import tensorflow as tf\n",
    "from tensorflow.keras import Input, Model\n",
    "from tensorflow.keras.layers import Embedding, Reshape, concatenate, Dense, Lambda\n",
    "from tensorflow.keras.optimizers import Adam"
   ]
  },
  {
   "cell_type": "code",
   "execution_count": 7,
   "metadata": {},
   "outputs": [],
   "source": [
    "# from fast.ai\n",
    "#embedding_size = min(50, (m+1) / 2)"
   ]
  },
  {
   "cell_type": "code",
   "execution_count": 8,
   "metadata": {},
   "outputs": [],
   "source": [
    "def build_model():\n",
    "    combi_input = Input((len(cat_cols)+len(cont_cols),))\n",
    "    cat_input = []\n",
    "    for i, cat in enumerate(cat_cols):\n",
    "        ci = combi_input[:, i]\n",
    "        cat_input.append(ci)\n",
    "\n",
    "    cont_input = combi_input[:, len(cat_cols):]\n",
    "    inputs = cat_input\n",
    "    inputs.append(cont_input)\n",
    "\n",
    "    cat_embedding = []\n",
    "    for i, size in enumerate(cat_size):\n",
    "        if size <= 2:\n",
    "            cat = Reshape(target_shape=(1,))(cat_input[i])\n",
    "            cat_embedding.append(cat)\n",
    "        else:\n",
    "            embedding_size = min(50, (size + 1) / 2)\n",
    "            cat = Embedding(size, 2, name=f'cat{i}_embedding')(cat_input[i])\n",
    "            cat_embedding.append(cat)\n",
    "    \n",
    "    embedded = [cont_input] + cat_embedding\n",
    "    output = concatenate(embedded)\n",
    "    output = Dense(200, activation='relu')(output)\n",
    "    output = Dense(100, activation='relu')(output)\n",
    "    output = Dense(2, activation='softmax')(output)\n",
    "\n",
    "    model = Model(inputs=combi_input, outputs=output)\n",
    "    initial_learning_rate = 0.01\n",
    "    lr_schedule = tf.keras.optimizers.schedules.ExponentialDecay(\n",
    "        initial_learning_rate,\n",
    "        decay_steps=200,\n",
    "        decay_rate=0.96,\n",
    "        staircase=False)\n",
    "    #optimizer = Adam(learning_rate=lr_schedule)\n",
    "    optimizer = Adam()\n",
    "    \n",
    "    #model.compile(loss='binary_crossentropy', optimizer=optimizer)\n",
    "    model.compile(loss='categorical_crossentropy', optimizer=optimizer)\n",
    "    \n",
    "    return model"
   ]
  },
  {
   "cell_type": "code",
   "execution_count": 9,
   "metadata": {},
   "outputs": [],
   "source": [
    "from tensorflow.keras.wrappers.scikit_learn import KerasClassifier"
   ]
  },
  {
   "cell_type": "code",
   "execution_count": 10,
   "metadata": {},
   "outputs": [],
   "source": [
    "from sklearn.pipeline import Pipeline\n",
    "from categorical_transform import IntegerCategoricalTransform\n",
    "p = Pipeline([('cat_trans', IntegerCategoricalTransform(cat_cols)), \n",
    "              ('mlp', KerasClassifier(build_model, epochs=1))])"
   ]
  },
  {
   "cell_type": "code",
   "execution_count": 11,
   "metadata": {},
   "outputs": [
    {
     "name": "stdout",
     "output_type": "stream",
     "text": [
      "9375/9375 [==============================] - 33s 3ms/step - loss: 0.3740\n"
     ]
    },
    {
     "data": {
      "text/plain": [
       "Pipeline(steps=[('cat_trans',\n",
       "                 IntegerCategoricalTransform(cat_cols=['cat0', 'cat1', 'cat2',\n",
       "                                                       'cat3', 'cat4', 'cat5',\n",
       "                                                       'cat6', 'cat7', 'cat8',\n",
       "                                                       'cat9', 'cat10', 'cat11',\n",
       "                                                       'cat12', 'cat13',\n",
       "                                                       'cat14', 'cat15',\n",
       "                                                       'cat16', 'cat17',\n",
       "                                                       'cat18'])),\n",
       "                ('mlp',\n",
       "                 <tensorflow.python.keras.wrappers.scikit_learn.KerasClassifier object at 0x7f5d421284f0>)])"
      ]
     },
     "execution_count": 11,
     "metadata": {},
     "output_type": "execute_result"
    }
   ],
   "source": [
    "x_train = train.drop(columns=['target','id'])\n",
    "y_train = train['target']\n",
    "p.fit(x_train, y_train)"
   ]
  },
  {
   "cell_type": "code",
   "execution_count": null,
   "metadata": {},
   "outputs": [],
   "source": [
    "p.predict(x_train)"
   ]
  },
  {
   "cell_type": "code",
   "execution_count": null,
   "metadata": {},
   "outputs": [],
   "source": [
    "from sklearn.model_selection import cross_validate\n",
    "scores = cross_validate(p, X=x_train, y=y_train, cv=5, return_train_score = True,\n",
    "                         scoring='roc_auc')\n",
    "scores"
   ]
  },
  {
   "cell_type": "code",
   "execution_count": null,
   "metadata": {},
   "outputs": [],
   "source": []
  }
 ],
 "metadata": {
  "kernelspec": {
   "display_name": "Python 3",
   "language": "python",
   "name": "python3"
  },
  "language_info": {
   "codemirror_mode": {
    "name": "ipython",
    "version": 3
   },
   "file_extension": ".py",
   "mimetype": "text/x-python",
   "name": "python",
   "nbconvert_exporter": "python",
   "pygments_lexer": "ipython3",
   "version": "3.8.5"
  }
 },
 "nbformat": 4,
 "nbformat_minor": 4
}
